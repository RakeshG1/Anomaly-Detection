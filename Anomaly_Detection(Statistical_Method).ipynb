{
 "cells": [
  {
   "cell_type": "markdown",
   "metadata": {},
   "source": [
    "### Importing Libraries"
   ]
  },
  {
   "cell_type": "code",
   "execution_count": 170,
   "metadata": {},
   "outputs": [
    {
     "name": "stdout",
     "output_type": "stream",
     "text": [
      "['seaborn-dark', 'seaborn-darkgrid', 'seaborn-ticks', 'fivethirtyeight', 'seaborn-whitegrid', 'classic', '_classic_test', 'fast', 'seaborn-talk', 'seaborn-dark-palette', 'seaborn-bright', 'seaborn-pastel', 'grayscale', 'seaborn-notebook', 'ggplot', 'seaborn-colorblind', 'seaborn-muted', 'seaborn', 'Solarize_Light2', 'seaborn-paper', 'bmh', 'tableau-colorblind10', 'seaborn-white', 'dark_background', 'seaborn-poster', 'seaborn-deep']\n"
     ]
    }
   ],
   "source": [
    "import pandas as pd\n",
    "import numpy as np\n",
    "import math\n",
    "import matplotlib.pyplot as plt\n",
    "import colorama\n",
    "from colorama import Fore, Style\n",
    "from numpy.random import seed\n",
    "from scipy.stats import shapiro\n",
    "import warnings\n",
    "warnings.filterwarnings('ignore')\n",
    "print(plt.style.available)\n",
    "\n",
    "seed(1)"
   ]
  },
  {
   "cell_type": "markdown",
   "metadata": {},
   "source": [
    "&nbsp;"
   ]
  },
  {
   "cell_type": "markdown",
   "metadata": {},
   "source": [
    "&nbsp;"
   ]
  },
  {
   "cell_type": "markdown",
   "metadata": {},
   "source": [
    "### Sample Data"
   ]
  },
  {
   "cell_type": "code",
   "execution_count": 137,
   "metadata": {},
   "outputs": [
    {
     "data": {
      "text/plain": [
       "89"
      ]
     },
     "execution_count": 137,
     "metadata": {},
     "output_type": "execute_result"
    }
   ],
   "source": [
    "x = [1,2,3,5,9,10,11,13,15,16,18,18,19,20,21,23,25,26,27,29,30,34,34,36,37,37,38,40,41,41,42,\n",
    "     43,44,45,45,45,45,47,48,49,46,47,48,48,50,50,51,53,53,53,54,56,55,55,56,57,57,58,59,60,61,\n",
    "     63,64,65,66,66,68,70,71,72,74,74,75,77,81,83,84,85,86,87,89,90,90,91,92,95,96,97,150\n",
    "     ]\n",
    "len(x)\n",
    "\n",
    "# x = [62.06,58.86,59.43,58.50,59.87,82.72,101.01,110.80,118.90,121.13,111.73,113.76,114.26,112.92,110.89,\n",
    "#      101.67,110.93,100.95,96.91,97.93,99.65,106.40,96.38,95.25,89.09,90.46,90.91,89.44,95.91,94.31,94.53,\n",
    "#      90.05,95.18,96.92,99.13,103.50,94.06,94.41,90.17,88.23,86.41,98.93,102.59,102.68,100.65,105.84,109.56,\n",
    "#      102.94,105.62,109.06,112.97]\n",
    "# len(x)"
   ]
  },
  {
   "cell_type": "markdown",
   "metadata": {},
   "source": [
    "&nbsp;"
   ]
  },
  {
   "cell_type": "markdown",
   "metadata": {},
   "source": [
    "&nbsp;"
   ]
  },
  {
   "cell_type": "markdown",
   "metadata": {},
   "source": [
    "### Visualizing Sample Data"
   ]
  },
  {
   "cell_type": "code",
   "execution_count": 194,
   "metadata": {},
   "outputs": [
    {
     "data": {
      "image/png": "[encoded data removed]",
      "text/plain": [
       "<Figure size 648x288 with 3 Axes>"
      ]
     },
     "metadata": {},
     "output_type": "display_data"
    }
   ],
   "source": [
    "plt.style.use('fivethirtyeight')\n",
    "\n",
    "fig,axes = plt.subplots(nrows=1,ncols=3,figsize=(9,4))\n",
    "\n",
    "#One dimensional Scatter plot\n",
    "axes[0].plot(x, len(x) * [1], \"x\")\n",
    "axes[0].set_title('One dimensional Scatter plot', size=15)\n",
    "\n",
    "#Histogram \n",
    "axes[1].hist(x)\n",
    "axes[1].set_title('Histogram', size=15)\n",
    "\n",
    "#Density plot(With Normal distribution)\n",
    "sns.distplot(x, hist=True,ax=axes[2])\n",
    "axes[2].set_title('Density plot', size=15)\n",
    "\n",
    "plt.tight_layout()\n",
    "plt.show()"
   ]
  },
  {
   "cell_type": "markdown",
   "metadata": {},
   "source": [
    "#### Key Note:\n",
    "* By analysing data distributions, we can say that given sample data is some what normal distribution.\n",
    "* But how much it is similar to normal distribution, we be known through statiscal test.\n",
    "* We can also see there is outlier in given data.\n",
    "* It is always better to first analyse data distribution through visuals & then go for normal distribution becuase normal tests has some senstivity with high samples size and difficulty for accurate results."
   ]
  },
  {
   "cell_type": "markdown",
   "metadata": {},
   "source": [
    "&nbsp;"
   ]
  },
  {
   "cell_type": "markdown",
   "metadata": {},
   "source": [
    "&nbsp;"
   ]
  },
  {
   "cell_type": "markdown",
   "metadata": {},
   "source": [
    "### Statistical Normality Test(Shapiro)"
   ]
  },
  {
   "cell_type": "code",
   "execution_count": 139,
   "metadata": {},
   "outputs": [
    {
     "name": "stdout",
     "output_type": "stream",
     "text": [
      "Statistics=0.973, p=0.057\n",
      "Sample looks like gaussian(hypotheised), fail to reject H0\n"
     ]
    }
   ],
   "source": [
    "stat, p = shapiro(x)\n",
    "print('Statistics=%.3f, p=%.3f'%(stat,p))\n",
    "\n",
    "#Interpreting\n",
    "alpha = 0.05\n",
    "if p > 0.05:\n",
    "    print('Sample looks like gaussian(hypotheised), fail to reject H0')\n",
    "else:\n",
    "    print('Sample does not looks like gaussian(hypotheised), fail to reject H0')"
   ]
  },
  {
   "cell_type": "markdown",
   "metadata": {},
   "source": [
    "#### Key Note:\n",
    "* Sahpiro tries too compare given sample x data mean and hypothesied(some automatic calculated correct gaussian mean from data given). And do hypothesis test whether these both mean are nearly same or not.\n",
    "* That is if shapiro test p_value is < 0.05, means sample mean is very far from hypothesied mean and getting into critical region in population distribution i.e., hypothesied gaussian distribution . So we reject null hypothesis(i.e., Given sample data is not normally/gaussian distributed).\n",
    "* Here p_value is > 0.05 i.e., 0.057(So sample mean and hypotheised gaussian means are nearly same to each other in hypothesied gaussian distribution)\n",
    "* This is my understanding based hypothesis test knowledge."
   ]
  },
  {
   "cell_type": "markdown",
   "metadata": {},
   "source": [
    "&nbsp;"
   ]
  },
  {
   "cell_type": "markdown",
   "metadata": {},
   "source": [
    "&nbsp;"
   ]
  },
  {
   "cell_type": "markdown",
   "metadata": {},
   "source": [
    "### Anomaly Detection(using 3 Standard Devition, if data is normally distributed, our sample data is normally distributed)"
   ]
  },
  {
   "cell_type": "code",
   "execution_count": 178,
   "metadata": {},
   "outputs": [
    {
     "name": "stdout",
     "output_type": "stream",
     "text": [
      "Mean = 51.24 \n",
      "\n",
      "Var = 726.43 \n",
      "\n",
      "Stdev = 26.95 \n",
      "\n",
      "Stdev*3 = 80.85 \n",
      "\n",
      "abs(150 - mean) = 98.76 \n",
      "\n",
      "\u001b[31m==============================\n",
      "Anomalies in our sample data :\n",
      "==============================\n",
      "    Age Age_Anomaly_Indic\n",
      "88  150               Yes\n"
     ]
    }
   ],
   "source": [
    "df = pd.DataFrame({'Age':x})\n",
    "\n",
    "mean = round(df['Age'].mean(),2)\n",
    "var = round((sum(pow(x-mean,2) for x in df['Age']) / (len(df['Age']))),2)\n",
    "stdev = round(math.sqrt(var),2)\n",
    "\n",
    "print('Mean =',mean,'\\n')\n",
    "print('Var =',var,'\\n')\n",
    "print('Stdev =',stdev,'\\n')\n",
    "print('Stdev*3 =',stdev*3,'\\n')\n",
    "print('abs(150 - mean) =',round(abs(150 - mean),3),'\\n')\n",
    "\n",
    "df['Age_Anomaly_Indic'] = ['Yes' if abs(x - mean) > stdev*3 else 'No' for x in df['Age']]\n",
    "print(Fore.RED + '='*30)\n",
    "print('Anomalies in our sample data :')\n",
    "print('='*30)\n",
    "print(df[df['Age_Anomaly_Indic']=='Yes'][['Age','Age_Anomaly_Indic']])"
   ]
  },
  {
   "cell_type": "markdown",
   "metadata": {},
   "source": [
    "#### Key Note:\n",
    "* In our sample data, observation point 150 has difference from its mean is 98.76, which is greater than > 3*stdev.\n",
    "* It means our observation point 150 is more than 3 stdev far from its mean, in hypothesis testing sample mean > 3.stdev (z>=3) enters into critical region(very less probable or unlikely to happen region in normal distribution).\n",
    "* So, 150 entering into critical region or less probable region, so it is prone to be an outlier (or) anomaly compared, other observations point."
   ]
  }
 ],
 "metadata": {
  "kernelspec": {
   "display_name": "Python 3",
   "language": "python",
   "name": "python3"
  },
  "language_info": {
   "codemirror_mode": {
    "name": "ipython",
    "version": 3
   },
   "file_extension": ".py",
   "mimetype": "text/x-python",
   "name": "python",
   "nbconvert_exporter": "python",
   "pygments_lexer": "ipython3",
   "version": "3.7.4"
  }
 },
 "nbformat": 4,
 "nbformat_minor": 4
}
